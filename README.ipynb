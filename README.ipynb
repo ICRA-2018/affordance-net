{
 "cells": [
  {
   "cell_type": "markdown",
   "metadata": {},
   "source": [
    "## [AffordanceNet: An End-to-End Deep Learning Approach for Object Affordance Detection](https://arxiv.org/pdf/1709.07326.pdf)\n",
    "By Thanh-Toan Do\\*, Anh Nguyen\\*, Ian Reid (\\* equal contribution)\n",
    "\n",
    "![affordance-net](https://raw.githubusercontent.com/nqanh/affordance-net/master/tools/temp_output/iit_aff_dataset.jpg \"affordance-net\")\n",
    "\n",
    "### Contents\n",
    "1. [Requirements](#requirements)\n",
    "2. [Installation](#installation)\n",
    "3. [Demo](#demo)\n",
    "4. [Training](#training)\n",
    "5. [Notes](#notes)\n",
    "\n",
    "\n",
    "### Requirements\n",
    "\n",
    "1. Caffe\n",
    "\t- Install Caffe: [Caffe installation instructions](http://caffe.berkeleyvision.org/installation.html).\n",
    "\t- Caffe must be built with support for Python layers.\n",
    "\n",
    "2. Hardware\n",
    "\t- To train a full AffordanceNet, you'll need a GPU with ~11GB (e.g. Titan, K20, K40, Tesla, ...).\n",
    "\t- To test a full AffordanceNet, you'll need ~6GB GPU.\n",
    "\n",
    "3. [Optional] For robotic demo\n",
    "\t- [ROS Indigo](http://wiki.ros.org/indigo/Installation/Ubuntu)\n",
    "\t- [rospy](http://wiki.ros.org/rospy)\n",
    "\t- [OpenNI](https://github.com/OpenNI/OpenNI)\n",
    "\t- [PrimeSensor](https://github.com/PrimeSense/Sensor)\n",
    "\n",
    "\n",
    "### Installation\n",
    "\n",
    "1. Clone the AffordanceNet repository into your `$AffordanceNet_ROOT` folder."
   ]
  },
  {
   "cell_type": "code",
   "execution_count": null,
   "metadata": {},
   "outputs": [],
   "source": [
    "\n",
    "2. Build `Caffe` and `pycaffe`:\n",
    "- `cd $AffordanceNet_ROOT/caffe-affordance-net`\n",
    "    - `# Now follow the Caffe installation instructions: http://caffe.berkeleyvision.org/installation.html`\n",
    "    - `# If you're experienced with Caffe and have all of the requirements installed and your Makefile.config in place, then simply do:`\n",
    "    - `make -j8 && make pycaffe`\n",
    "     "
   ]
  },
  {
   "cell_type": "markdown",
   "metadata": {},
   "source": [
    "3. Build the Cython modules:\n",
    "    - `cd $AffordanceNet_ROOT/lib`\n",
    "    - `make`\n",
    "\n",
    "\n",
    "4. Download pretrained weights ([Google Drive](https://drive.google.com/file/d/0Bx3H_TbKFPCjNlMtSGJlQ0dxVzQ/view?usp=sharing), [One Drive](https://studenthcmusedu-my.sharepoint.com/:u:/g/personal/nqanh_mso_hcmus_edu_vn/ETD6q64-L1lCgtNEryA42NwBNM9vNoyE8QyxAYzgt8NqnA?e=uRCxPg)). This weight is trained on the training set of the [IIT-AFF dataset](https://sites.google.com/site/iitaffdataset/):\n",
    "    - Extract the file you downloaded to `$AffordanceNet_ROOT`\n",
    "    - Make sure you have the caffemodel file like this: `'$AffordanceNet_ROOT/pretrained/AffordanceNet_200K.caffemodel`"
   ]
  },
  {
   "cell_type": "code",
   "execution_count": null,
   "metadata": {},
   "outputs": [],
   "source": [
    "\n",
    "### Demo"
   ]
  },
  {
   "cell_type": "markdown",
   "metadata": {},
   "source": [
    "After successfully completing installation, you'll be ready to run the demo. \n",
    "\n",
    "0. Export pycaffe path:\n",
    "\t- `export PYTHONPATH=$AffordanceNet_ROOT/caffe-affordance-net/python:$PYTHONPATH`\n",
    "\n",
    "1. Demo on static images:\n",
    "\t- `cd $AffordanceNet_ROOT/tools`\n",
    "\t- `python demo_img.py`\n",
    "\t- You should see the detected objects and their affordances.\n",
    "\t\n",
    "2. (Optional) Demo on depth camera (such as Asus Xtion):\n",
    "\t- With AffordanceNet and the depth camera, you can easily select the interested object and its affordances for robotic applications such as grasping, pouring, etc.\n",
    "\t- First, launch your depth camera with ROS, OpenNI, etc.\n",
    "\t- `cd $AffordanceNet_ROOT/tools`\n",
    "\t- `python demo_asus.py`\n",
    "\t- You may want to change the object id and/or affordance id (line `380`, `381` in `demo_asus.py`). Currently, we select the `bottle` and its `grasp` affordance.\n",
    "\t- The 3D grasp pose can be visualized with [rviz](http://wiki.ros.org/rviz). You should see something like this: \n",
    "\t![affordance-net-asus](https://raw.githubusercontent.com/nqanh/affordance-net/master/tools/temp_output/asus_affordance_net_demo.jpg \"affordance-net-asus\")\n",
    "\t\n",
    "### Training\n",
    "\n",
    "1. We train AffordanceNet on [IIT-AFF dataset](https://sites.google.com/site/iitaffdataset/)\n",
    "\t- We need to format IIT-AFF dataset as in Pascal-VOC dataset for training.\n",
    "\t- For your convinience, we did it for you. Just download this file ([Google Drive](https://drive.google.com/file/d/0Bx3H_TbKFPCjV09MbkxGX0k1ZEU/view?usp=sharing), [One Drive](https://studenthcmusedu-my.sharepoint.com/:u:/g/personal/nqanh_mso_hcmus_edu_vn/EXQok71Y2kFAmhaabY2TQO8BFIO1AqqH5GcMOfPqgn_q2g?e=7rH3Kd)) and extract it into your `$AffordanceNet_ROOT` folder.\n",
    "\t- The extracted folder should contain three sub-folders: `$AffordanceNet_ROOT/data/cache`, `$AffordanceNet_ROOT/data/imagenet_models`, and `$AffordanceNet_ROOT/data/VOCdevkit2012` .\n",
    "\n",
    "2. Train AffordanceNet:\n",
    "\t- `cd $AffordanceNet_ROOT`\n",
    "\t- `./experiments/scripts/faster_rcnn_end2end.sh [GPU_ID] [NET] [--set ...]`\n",
    "\t- e.g.: `./experiments/scripts/faster_rcnn_end2end.sh 0 VGG16 pascal_voc`\n",
    "\t- We use `pascal_voc` alias although we're training using the IIT-AFF dataset.\n",
    "\n",
    "\n",
    "\n",
    "### Notes\n",
    "1. AffordanceNet vs. Mask-RCNN: AffordanceNet can be considered as a general version of Mask-RCNN when we have multiple classes inside each instance.\n",
    "2. The current network achitecture is slightly diffrent from the paper, but it achieves the same accuracy.\n",
    "3. Train AffordanceNet on your data:\n",
    "\t- Format your images as in Pascal-VOC dataset (as in `$AffordanceNet_ROOT/data/VOCdevkit2012` folder).\n",
    "\t- Prepare the affordance masks (as in `$AffordanceNet_ROOT/data/cache` folder): For each object in the image, we need to create a mask and save as a .sm file. See `$AffordanceNet_ROOT/utils` for details.\n",
    "\n",
    "\n",
    "### Citing AffordanceNet\n",
    "\n",
    "If you find AffordanceNet useful in your research, please consider citing:"
   ]
  },
  {
   "cell_type": "code",
   "execution_count": null,
   "metadata": {},
   "outputs": [],
   "source": [
    "@inproceedings{AffordanceNet18,\n",
    "  title={AffordanceNet: An End-to-End Deep Learning Approach for Object Affordance Detection},\n",
    "  author={Do, Thanh-Toan and Nguyen, Anh and Reid, Ian},\n",
    "  booktitle={International Conference on Robotics and Automation (ICRA)},\n",
    "  year={2018}\n",
    "}\n"
   ]
  },
  {
   "cell_type": "markdown",
   "metadata": {},
   "source": [
    "If you use [IIT-AFF dataset](https://sites.google.com/site/iitaffdataset/), please consider citing:"
   ]
  },
  {
   "cell_type": "code",
   "execution_count": null,
   "metadata": {},
   "outputs": [],
   "source": [
    "@inproceedings{Nguyen17,\n",
    "  title={Object-Based Affordances Detection with Convolutional Neural Networks and Dense Conditional Random Fields},\n",
    "  author={Nguyen, Anh and Kanoulas, Dimitrios and Caldwell, Darwin G and Tsagarakis, Nikos G},\n",
    "  booktitle = {IEEE/RSJ International Conference on Intelligent Robots and Systems (IROS)},\n",
    "  year={2017},\n",
    "}\n"
   ]
  },
  {
   "cell_type": "markdown",
   "metadata": {},
   "source": [
    "### License\n",
    "MIT License\n",
    "\n",
    "### Acknowledgement\n",
    "This repo used a lot of source code from [Faster-RCNN](https://github.com/rbgirshick/py-faster-rcnn)\n",
    "\n",
    "\n",
    "### Contact\n",
    "If you have any questions or comments, please send us an email: `thanh-toan.do@adelaide.edu.au` and `anh.nguyen@iit.it`"
   ]
  }
 ],

 "metadata": {
  "kernelspec": {
   "display_name": "Bash",
   "language": "bash",
   "name": "bash"
  },
  "language_info": {
   "codemirror_mode": "shell",
   "file_extension": ".sh",
   "mimetype": "text/x-sh",
   "name": "bash"
  }
 },
 "nbformat": 4,
 "nbformat_minor": 2
}
